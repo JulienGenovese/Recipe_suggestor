{
 "cells": [
  {
   "cell_type": "code",
   "execution_count": 1,
   "metadata": {},
   "outputs": [],
   "source": [
    "import json\n",
    "import os"
   ]
  },
  {
   "cell_type": "code",
   "execution_count": 5,
   "metadata": {},
   "outputs": [],
   "source": [
    "folder = r\"..\\data\\ricette\" "
   ]
  },
  {
   "cell_type": "code",
   "execution_count": 6,
   "metadata": {},
   "outputs": [],
   "source": [
    "percorso_file = os.path.join(folder, \"Le-ricette-di-stagioni-nel-piatto-ricettario-ebook.json\")"
   ]
  },
  {
   "cell_type": "code",
   "execution_count": 7,
   "metadata": {},
   "outputs": [],
   "source": [
    "ricette = {}\n",
    "with open(percorso_file, 'r', encoding='utf-8') as f:\n",
    "    dati_json = json.load(f)\n",
    "    for chiave, ricetta in dati_json.items():\n",
    "        ricette[chiave] = ricetta"
   ]
  },
  {
   "cell_type": "code",
   "execution_count": 8,
   "metadata": {},
   "outputs": [
    {
     "data": {
      "text/plain": [
       "{'9': {'nome': 'MINIQUICHE ASPARAGI BIANCHI E CURCUMA',\n",
       "  'tipo': 'antipasto',\n",
       "  'ingredienti': ['100 g di farina',\n",
       "   '50 g di burro',\n",
       "   '25 ml di acqua',\n",
       "   '1 cucchiaino di curcuma',\n",
       "   '1 pizzico di sale',\n",
       "   '400 g di asparagi bianchi',\n",
       "   '2 uova',\n",
       "   '80 g di panna fresca',\n",
       "   '15 g di parmigiano',\n",
       "   '1 spicchio di aglio',\n",
       "   'erbe aromatiche (timo, prezzemolo)',\n",
       "   'olio extravergine di oliva',\n",
       "   'sale',\n",
       "   'pepe nero'],\n",
       "  'procedimento': 'Per la pasta brisé alla curcuma: mettete il burro ammorbidito a pezzetti, la\\ncurcuma e la farina n una planetaria e impastate con il gancio a foglia fino\\na ottenere un composto sabbioso. Unite l’acqua e il sale e continuate fino\\na che la pasta brisé risulterà omogenea. Se non avete la planetaria potete\\nfare questi passaggi a mano. Formate una palla, avvolgetela nella pellicola\\ne fatela riposare in frigorifero per un’ora circa.\\nLavate gli asparagi, eliminate la parte finale più fibrosa e pelate i gambi\\ncon un pelapatate, fermandovi a qualche centimetro dalle punte. Separate\\nle punte dai gambi e tagliate questi ultimi a rondelle.\\nIn una padella scaldate l’olio con l’aglio schiacciato. Unite i gambi degli\\nasparagi, salate e insaporite con prezzemolo e timo. Fate cuocere per\\nqualche minuto fino a che risulteranno morbidi. Spegnete e fate\\nintiepidire.\\nRicavate sei dischi sottili dalla pasta brisé e rivestite gli stampi da muffin.\\nDividete al loro interno gli asparagi cotti dopo aver eliminato l’aglio.\\nSbattete le uova con la panna, il parmigiano, il sale e il pepe. Dividete il\\ncomposto nei sei stampini coprendo gli asparagi e arrivando a 2-3 mm dal\\nbordo. Tagliate la pasta in eccesso e decorate con le punte di asparagi\\ncrude. Infornate a 180°C, forno ventilato, per circa 25 minuti. Fate\\nintiepidire e sformate le miniquiche.\\n- 9 -'},\n",
       " '10': {'nome': 'FELAFEL DI FAVE ALLA MENTA',\n",
       "  'tipo': 'antipasto',\n",
       "  'ingredienti': ['500 g di fave fresche già pulite',\n",
       "   'mezza cipolla (circa 80 g)',\n",
       "   '1 spicchio di aglio',\n",
       "   'un mazzetto di prezzemolo',\n",
       "   '3-4 foglioline di menta',\n",
       "   'un pizzico di cumino',\n",
       "   'pane grattugiato q.b.',\n",
       "   'sale',\n",
       "   'pepe',\n",
       "   'abbondante olio di arachidi per friggere'],\n",
       "  'procedimento': 'Mettete le fave, la cipolla, l’aglio e gli aromi in un mixer. Frullate fino a\\nottenere un composto piuttosto omogeneo fine. Regolate di sale e pepe e\\ntrasferite in una ciotola.\\nAggiungete al composto del pane grattugiato, poco alla volta, fino a\\nottenere un impasto lavorabile con cui potrete dar forma alle polpette\\nsenza che si rompano. Fate quindi riposare il composto in frigorifero per\\nun’ora circa.\\nFormate delle polpettine tonde della grandezza di una noce e tenetele da\\nparte.\\nScaldate abbondante olio di arachidi e cominciate a friggere le felafel di\\nfave, poche alla volta, fino a che saranno dorate. Se vedete che in cottura\\nsi rompono aggiungete altro pane grattugiato.\\nScolate le felafel dall’olio e mettetele su un foglio di carta assorbente.\\nServitele calde, magari accompagnate da una salsa allo yogurt.\\n- 10 -'},\n",
       " '11': {'nome': 'TORTINI DI GRANO, SCAMORZA E VERDURE',\n",
       "  'tipo': 'antipasto',\n",
       "  'ingredienti': ['130 g di scamorza affumicata',\n",
       "   '100 g di piselli freschi o surgelati',\n",
       "   '100 g di asparagini già puliti',\n",
       "   '100 g di carote',\n",
       "   '2 cipollotti (anche la parte verde)',\n",
       "   '30 g di parmigiano grattugiato',\n",
       "   '2 cucchiai di olio extravergine di oliva',\n",
       "   '50 g di latte',\n",
       "   '3 uova',\n",
       "   'prezzemolo, timo',\n",
       "   'noce moscata',\n",
       "   'sale',\n",
       "   'pepe nero'],\n",
       "  'procedimento': 'Lavate le verdure. Tritate i cipollotti e tagliate a piccoli dadini le carote.\\nMetteteli in una padella con l’olio extravergine e fate cuocere per 5-6\\nminuti, mescolando ogni tanto.\\nUnite quindi i piselli, gli asparagi tagliati a piccoli pezzetti (tenendo da\\nparte le punte intere) e aggiungete un mestolo di acqua o brodo vegetale.\\nSalate e lasciate cuocere per altri 7-8 minuti, finché le verdure saranno\\ncotte e l’acqua asciugata.\\nIn una ciotola sbattete le uova insieme al parmigiano e al latte. Unite il\\ngrano cotto e mescolate bene. Aggiungete quindi le verdure tiepide, la\\nscamorza affumicata a dadini, le erbe aromatiche e una grattata di noce\\nmoscata. Regolate di sale e pepe.\\nImburrate e rivestite di pane grattugiato una teglia da 12 muffin. Dividete\\nil composto negli stampi arrivando fino al bordo e premendo bene.\\nInfornate in forno ventilato a 180°C per circa 30-35 minuti, sfornate e\\nlasciate intiepidire prima di togliere i tortini dallo stampo.\\n- 11 -'},\n",
       " '12': {'nome': 'BRUSCHETTE CON CREMA DI FAVE E POLPO',\n",
       "  'tipo': 'antipasto',\n",
       "  'ingredienti': ['4 fette di pane in cassetta',\n",
       "   '300 g di polpo fresco già pulito',\n",
       "   '250 g di fave fresche',\n",
       "   'olio extravergine di oliva',\n",
       "   'sale',\n",
       "   'pepe'],\n",
       "  'procedimento': 'Preparate il polpo: adagiatelo nella slowcooker e azionate il programma\\nhigh per circa 3 ore e mezza. Non aggiungete nulla, il polpo cuocerà nella\\npropria acqua senza bruciare. Lasciatelo raffreddare e tagliatelo a pezzetti.\\nSe non avete la slowcooker potete lessare il polpo in acqua per circa 30-40\\nminuti, a seconda della dimensione dei tentacoli. Anche qui, lasciate poi\\nraffreddare nella sua acqua e tagliate a tocchetti.\\nLessate le fave in acqua salata e passatele con lo schiacciaverdure, in\\nmodo che nella crema non vengano frullate le pellicine. Condite con un\\nfilo di olio e una spolverata di pepe.\\nDividete in 4 le fette di pane in cassetta (eliminando il bordo esterno, se\\ngradite), tostatele su una griglia, suddividete la crema di fave e il polpo\\nsulle bruschette e servite leggermente tiepide.\\n- 12 -'},\n",
       " '13': {'nome': 'RISO VENERE CON TONNO E NESPOLE',\n",
       "  'tipo': 'altro',\n",
       "  'ingredienti': ['210 g di riso venere',\n",
       "   '300 g di tonno fresco',\n",
       "   '250 g di nespole (peso frutto pulito)',\n",
       "   '2 cucchiai di semi di sesamo',\n",
       "   '2 cucchiaini di miele',\n",
       "   '4 cucchiai di olio extravergine di oliva',\n",
       "   'la scorza di 1 lime non trattato',\n",
       "   '1 spicchio di aglio',\n",
       "   'basilico',\n",
       "   'sale'],\n",
       "  'procedimento': 'Portate a bollore abbondante acqua salata e cuocete il riso nero per il\\ntempo di cottura indicato.\\nNel frattempo, in una padella, tostate i semi di sesamo per qualche\\nminuto senza aggiungere alcun condimento: quando saranno\\nleggermente dorati metteteli da parte. Nella stessa padella fate scaldare\\ndue cucchiai di olio insieme allo spicchio di aglio intero, poi aggiungete il\\ntonno tagliato a cubetti e saltatelo per pochissimi secondi.\\nUnite anche le nespole tagliate a pezzetti dopo averle private della buccia\\ne dei semi. Salate a piacere e aggiungete la scorza grattugiata del lime e il\\nmiele. Fate insaporire il tutto per un paio di minuti, scolate il riso e\\naggiungetelo al condimento.\\nCompletate unendo il basilico spezzettato finemente, i semi di sesamo\\ntostati e l’olio rimasto. Fate insaporire un minuto mescolando, eliminate lo\\nspicchio di aglio e servite.\\n- 13 -'},\n",
       " '14': {'nome': 'LASAGNE ALLE VERDURE PRIMAVERILI',\n",
       "  'tipo': 'altro',\n",
       "  'ingredienti': ['9 sfoglie di lasagne secche o fresche',\n",
       "   '300 g di agretti',\n",
       "   '300 g di erbette',\n",
       "   '300 g di spinaci',\n",
       "   '3-4 carote medie',\n",
       "   '80 g di piselli',\n",
       "   '150 g di fave',\n",
       "   '2-3 cipollotti',\n",
       "   '80 g di provolone calabrese',\n",
       "   '60 g di parmigiano grattugiato',\n",
       "   'olio extravergine di oliva',\n",
       "   'sale',\n",
       "   '700 ml di latte',\n",
       "   '60 g di burro',\n",
       "   '60 g di farina',\n",
       "   'un ricco mazzetto di timo, prezzemolo,',\n",
       "   'basilico e erba cipollina',\n",
       "   'sale',\n",
       "   'pepe nero',\n",
       "   'noce moscata'],\n",
       "  'procedimento': \"Portate a bollore abbondante acqua e lessate per 5-6 minuti i piselli e le\\nfave, scolateli e teneteli da parte. Se volete potete decorticare le fave.\\nLessate per 4-5 minuti anche le erbette, gli spinaci e gli agretti, scolateli,\\nstrizzateli e tritateli grossolanamente al coltello.\\nIn una padella fate rosolare i cipollotti a rondelle e le carote a listarelle\\ncon l'olio per 6-7 minuti . Unite le altre verdure, salate e fate cuocere a\\nfiamma vivace, mescolando, per 4-5 minuti. Spegnete e fate intiepidire.\\nNel frattempo preparate la besciamella: fate sciogliere il burro e unite la\\nfarina tutta in una volta mescolando bene per non formare grumi. Fate\\ncuocere per qualche minuto, salate e unite la noce moscata. Aggiungete il\\nlatte, poco alla volta, mescolando. Fate cuocere a fuoco dolce, mescolando\\nspesso, fino a che avrà raggiunto la consistenza desiderata. Togliete dal\\nfuoco, tritate finemente le erbe aromatiche e unitele alla besciamella,\\nregolando di pepe.\\nPrendete una pirofila di circa 20×30 cm e sporcate il fondo con poca\\nbesciamella. Fate uno strato di pasta, coprite con un terzo della\\nbesciamella, un generoso strato di verdure, un terzo del parmigiano e\\ndella provola grattugiata con la grattugia a fori larghi. Ripetete formando\\nun secondo strato uguale e terminate con un ultimo strato di pasta, con la\\nbesciamella e i formaggi rimasti e qualche verdura a decorare.\\nInfornate a 180°C in forno ventilato per circa 35-40 minuti. Lasciate\\nriposare una decina di minuti prima di servire.\\n- 14 -\"}}"
      ]
     },
     "execution_count": 8,
     "metadata": {},
     "output_type": "execute_result"
    }
   ],
   "source": [
    "ricette"
   ]
  }
 ],
 "metadata": {
  "kernelspec": {
   "display_name": "venv",
   "language": "python",
   "name": "python3"
  },
  "language_info": {
   "codemirror_mode": {
    "name": "ipython",
    "version": 3
   },
   "file_extension": ".py",
   "mimetype": "text/x-python",
   "name": "python",
   "nbconvert_exporter": "python",
   "pygments_lexer": "ipython3",
   "version": "3.10.14"
  }
 },
 "nbformat": 4,
 "nbformat_minor": 2
}
